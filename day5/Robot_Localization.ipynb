{
  "nbformat": 4,
  "nbformat_minor": 0,
  "metadata": {
    "colab": {
      "name": "Copy of Robot Localization.ipynb",
      "provenance": []
    },
    "kernelspec": {
      "name": "python3",
      "display_name": "Python 3"
    }
  },
  "cells": [
    {
      "cell_type": "code",
      "metadata": {
        "id": "dKcn3Yp51N4H",
        "colab_type": "code",
        "colab": {}
      },
      "source": [
        ""
      ],
      "execution_count": 0,
      "outputs": []
    },
    {
      "cell_type": "markdown",
      "metadata": {
        "id": "VaAXhlYb1PWV",
        "colab_type": "text"
      },
      "source": [
        "# Programming Exercise: Robot Localization"
      ]
    },
    {
      "cell_type": "code",
      "metadata": {
        "id": "1DCjzwn61jDk",
        "colab_type": "code",
        "colab": {}
      },
      "source": [
        "import numpy as np\n"
      ],
      "execution_count": 0,
      "outputs": []
    },
    {
      "cell_type": "markdown",
      "metadata": {
        "id": "-o7tHiTc6hGm",
        "colab_type": "text"
      },
      "source": [
        "#### Cancer Test Example\n",
        "Let us apply Bayes' Rule to a Cancer Test Example which is a very common example in Statistic classes.\n",
        "Suppose, there is a certain type of cancer which is extremely rare.\n",
        "\n",
        "Let,\n",
        "\\begin{equation}\n",
        "P(C) = 0.001\n",
        "\\end{equation}\n",
        "In other words, $1$ in every $1000$ people has this cancer. Can you compute the probability of not having cancer?\n",
        "\\begin{equation}\n",
        "P(\\neg C) = ?\n",
        "\\end{equation}\n",
        "\n",
        "The test for cancer is not $100\\%$ accurate. Let us say, probability of the test being positive given someone has cancer is,\n",
        "\\begin{equation}\n",
        "P(pos | C) = 0.8\n",
        "\\end{equation}\n",
        "Can you compute the probability that the test is negative given someone has cancer?\n",
        "\\begin{equation}\n",
        "P(neg | C) = ?\n",
        "\\end{equation}\n",
        "\n",
        "Similarly, the probability of a test being positive given that someone has no cancer is $P(pos | \\neg C) = 0.1$. Can you compute the probability that the test is negative given someone has no cancer?\n",
        "\\begin{equation}\n",
        "P(neg | \\neg C) = ?\n",
        "\\end{equation}\n",
        "\n",
        "Can you compute the following?\n",
        "\\begin{equation}\n",
        "P(C | pos) = ?\n",
        "\\end{equation}\n",
        "Interpret the quantity you computed in words!\n",
        "\n",
        "What we computed is very interesting. We computed probability of having cancer given the test results and how likely the disease is."
      ]
    },
    {
      "cell_type": "markdown",
      "metadata": {
        "id": "I0iPdR-y-aGV",
        "colab_type": "text"
      },
      "source": [
        "# Robot Localization\n",
        "In this exercise we will apply basic concepts of probability and statistics to help a robot localise itself. Robot localization is an important task for any mobile robot as it needs to know where in the world it is currently situated in.\n",
        "\n",
        "You may think robot localization is a very easy problem as you can use GPS. But no! GPS has errors in localization upto a few metres which is very inaccurate for self driving cars.\n",
        "\n",
        "Hence, the robot needs to use sensors to locate itself. And sensors are noisy! Even the motion of a robot is uncertain.\n",
        "\n",
        "For the purposes of this exercise, let us assume that the world is a one dimensional world with $N$ grid cells. Each grid cell is colored either red or green which can be measured using a sensor located in the robot. However, the sensor measurements are noisy and hence we need to take a probabilitic approach to determine in which of these grid cells the robot is situated in at a given instant of time.\n",
        "\n",
        "![image](images/1.png)\n",
        "\n",
        "The robot can move either left or right in this **cyclic** world. This motion is uncertain as well prompting us again to take a probabilistic approach. For example you may instruct the robot to move $5$ cells. But it may move $4/6$ cells due to a wheel slip.\n",
        "\n",
        "When the robot is switched on, it is in a state of maximum confusion. It doesn't know where it is situated. We will model this state of maximum confusion as uniform distribution. \n",
        "In other words, the robot has equal belief of being present in any of the cells.\n",
        "\n",
        "Complete the below function to return an array where the $i^{th}$ array element is the probability that the robot is in the $i^{th}$ grid cell at time instant $0$ when the robot is switched on."
      ]
    },
    {
      "cell_type": "code",
      "metadata": {
        "id": "WKaYvKXt6iHG",
        "colab_type": "code",
        "colab": {}
      },
      "source": [
        "# Modify the empty list, p, so that it becomes a UNIFORM probability\n",
        "# distribution over n grid cells, as expressed in a list of \n",
        "# n probabilities.\n",
        "def init_distribution(n):\n",
        "    p = []\n",
        "    # Add your code here\n",
        "    p = [1/n for i in range(n)] \n",
        "    # End your code here\n",
        "    return p"
      ],
      "execution_count": 0,
      "outputs": []
    },
    {
      "cell_type": "code",
      "metadata": {
        "id": "X_TWpo2V96Q8",
        "colab_type": "code",
        "outputId": "492a95c1-ea93-4333-8f5c-f20f3c5999a5",
        "colab": {
          "base_uri": "https://localhost:8080/",
          "height": 35
        }
      },
      "source": [
        "init_distribution(5)"
      ],
      "execution_count": 3,
      "outputs": [
        {
          "output_type": "execute_result",
          "data": {
            "text/plain": [
              "[0.2, 0.2, 0.2, 0.2, 0.2]"
            ]
          },
          "metadata": {
            "tags": []
          },
          "execution_count": 3
        }
      ]
    },
    {
      "cell_type": "code",
      "metadata": {
        "id": "Se_FN-CC-Hx9",
        "colab_type": "code",
        "outputId": "967b78eb-6838-40c9-9ddc-c5b73d4d1d4f",
        "colab": {
          "base_uri": "https://localhost:8080/",
          "height": 106
        }
      },
      "source": [
        "#Modify the code below so that the function sense, which \n",
        "#takes p and Z as inputs, will output the normalized \n",
        "#probability distribution, q, after multiplying the entries \n",
        "# in p according to the color in the corresponding cell in world,\n",
        "# followed by normalization of the probability values\n",
        "world=np.array(['green', 'red', 'red', 'green', 'green'])\n",
        "p = [0.2, 0.2, 0.2, 0.2, 0.2]\n",
        "\n",
        "def sense(p, Z):\n",
        "    # Add your code here\n",
        "    q = []\n",
        "    arr = [0.25,0.75]\n",
        "    s = 0\n",
        "    for i in range(len(world)):\n",
        "      s += (arr[world[i] == Z]*p[i])\n",
        "    \n",
        "    q = [(arr[world[i] == Z]*p[i])/s for i in range(len(world))]\n",
        "    # End your code here\n",
        "    return q\n",
        "            \n",
        "sense(p, 'green')"
      ],
      "execution_count": 60,
      "outputs": [
        {
          "output_type": "execute_result",
          "data": {
            "text/plain": [
              "[0.27272727272727276,\n",
              " 0.09090909090909091,\n",
              " 0.09090909090909091,\n",
              " 0.27272727272727276,\n",
              " 0.27272727272727276]"
            ]
          },
          "metadata": {
            "tags": []
          },
          "execution_count": 60
        }
      ]
    },
    {
      "cell_type": "code",
      "metadata": {
        "id": "6R0eAljYAMb6",
        "colab_type": "code",
        "outputId": "9c3d1605-fa03-42cd-f927-f61ce89c1139",
        "colab": {
          "base_uri": "https://localhost:8080/",
          "height": 35
        }
      },
      "source": [
        "#Modify the code so that it updates the probability twice\n",
        "#and gives the posterior distribution after both \n",
        "#measurements are incorporated. Make sure that your code \n",
        "#allows for any sequence of measurement of any length.\n",
        "\n",
        "# DO NOT MODIFY THE SENSE FUNCTION. JUST CALL THE SENSE FUNCTION APPROPRIATELY\n",
        "\n",
        "p=[0.2, 0.2, 0.2, 0.2, 0.2]\n",
        "world=['green', 'red', 'red', 'green', 'green']\n",
        "measurements = ['red', 'green']\n",
        "\n",
        "# Add your code here\n",
        "for i in measurements:\n",
        "  p = sense(p, i)\n",
        "# End your code here\n",
        "print(p)"
      ],
      "execution_count": 17,
      "outputs": [
        {
          "output_type": "stream",
          "text": [
            "[0.2 0.2 0.2 0.2 0.2]\n"
          ],
          "name": "stdout"
        }
      ]
    },
    {
      "cell_type": "code",
      "metadata": {
        "id": "09T5xJwcDUmT",
        "colab_type": "code",
        "outputId": "dd4a1251-5866-4834-dd0e-349b410584d4",
        "colab": {
          "base_uri": "https://localhost:8080/",
          "height": 35
        }
      },
      "source": [
        "#Program a function that returns a new distribution \n",
        "#q, shifted to the right by U units. If U=0, q should \n",
        "#be the same as p.\n",
        "\n",
        "def move(p, U):\n",
        "    q = []\n",
        "    # ADD CODE HERE\n",
        "    q = np.roll(p, U % len(p))\n",
        "    \n",
        "    # END CODE HERE\n",
        "    return q\n",
        "\n",
        "move([0.11, 0.33, 0.33, 0.11, 0.11], 1)"
      ],
      "execution_count": 42,
      "outputs": [
        {
          "output_type": "execute_result",
          "data": {
            "text/plain": [
              "array([0.11, 0.11, 0.33, 0.33, 0.11])"
            ]
          },
          "metadata": {
            "tags": []
          },
          "execution_count": 42
        }
      ]
    },
    {
      "cell_type": "code",
      "metadata": {
        "id": "_ODB95yrGfTl",
        "colab_type": "code",
        "colab": {}
      },
      "source": [
        ""
      ],
      "execution_count": 0,
      "outputs": []
    },
    {
      "cell_type": "markdown",
      "metadata": {
        "id": "HdlpeqKxPHno",
        "colab_type": "text"
      },
      "source": [
        "**Solution:**\n",
        "\n",
        "We can apply the Theorem of total probability at each grid cell given the robot instruction. For example, we are interested in computing the probability that the robot is at grid cell $2$. Now the robot can come here from the following gird cells:\n",
        "- Grid cell $1$: The instruction is to move right by $2$, and hence a robot at cell $1$ can reach this grid cell with a probability of $0.1$(this is by undershooting)\n",
        "- Grid cell $0$ : The instruction is to move right by $2$, and hence a robot at cell $0$ can reach this grid cell with a probability of $0.8$(this is case when robot motion is exact)\n",
        "- Grid cell $4$ : The instruction is to move right by $2$, and hence a robot at cell $4$ can reach this grid cell with a probability of $0.1$(this is by overshooting). Remember that the world is cyclic.\n",
        "\n",
        "Required Probability($P$) is given as follows:\n",
        "\\begin{equation}\n",
        "P = 1.0 * 0.1 + 0.0 * 0.8 + 0.0 * 0.1 = 0.1\n",
        "\\end{equation}"
      ]
    },
    {
      "cell_type": "code",
      "metadata": {
        "id": "Fhz6XkGKPJKh",
        "colab_type": "code",
        "outputId": "25f7e863-2b56-4211-af3e-063b234cc621",
        "colab": {
          "base_uri": "https://localhost:8080/",
          "height": 35
        }
      },
      "source": [
        "#Modify the move function to accommodate the added \n",
        "#probabilities of overshooting or undershooting \n",
        "#the intended destination.\n",
        "\n",
        "def move_prob(p, U):\n",
        "    p = np.array(p)\n",
        "    # ADD CODE HERE\n",
        "    P = [(-1, 0.1), (0, 0.8), (1, 0.1)]\n",
        "    q = np.zeros(len(p))\n",
        "    for mov, prob in P:\n",
        "        q += np.array(move(p, U+mov)) * prob\n",
        "    # END CODE HERE\n",
        "    return q\n",
        "\n",
        "move_prob([0, 1.0, 0, 0, 0], 1)"
      ],
      "execution_count": 50,
      "outputs": [
        {
          "output_type": "execute_result",
          "data": {
            "text/plain": [
              "array([0. , 0.1, 0.8, 0.1, 0. ])"
            ]
          },
          "metadata": {
            "tags": []
          },
          "execution_count": 50
        }
      ]
    },
    {
      "cell_type": "code",
      "metadata": {
        "id": "w9r5hSUXRCz-",
        "colab_type": "code",
        "outputId": "27b1018b-07be-4398-87aa-7c006a87cbe7",
        "colab": {
          "base_uri": "https://localhost:8080/",
          "height": 35
        }
      },
      "source": [
        "#write code that moves 1000 times and then prints the \n",
        "#resulting probability distribution.\n",
        "\n",
        "p = [0, 1, 0, 0, 0]\n",
        "# ADD CODE HERE\n",
        "for i in range(1000):\n",
        "  p = move_prob(p,1)\n",
        "# END CODE HERE\n",
        "p"
      ],
      "execution_count": 51,
      "outputs": [
        {
          "output_type": "execute_result",
          "data": {
            "text/plain": [
              "array([0.2, 0.2, 0.2, 0.2, 0.2])"
            ]
          },
          "metadata": {
            "tags": []
          },
          "execution_count": 51
        }
      ]
    },
    {
      "cell_type": "code",
      "metadata": {
        "id": "8LQsvpbdRPzS",
        "colab_type": "code",
        "colab": {
          "base_uri": "https://localhost:8080/",
          "height": 35
        },
        "outputId": "510f388d-8608-480c-f3e4-34a5bc2befd9"
      },
      "source": [
        "#Given the list motions=[1,1] which means the robot \n",
        "#moves right and then right again, compute the posterior \n",
        "#distribution if the robot first senses red, then moves \n",
        "#right one, then senses green, then moves right again, \n",
        "#starting with a uniform prior distribution.\n",
        "\n",
        "world=['green', 'red', 'red', 'green', 'green']\n",
        "measurements = ['red', 'green']\n",
        "motions = [1,1]\n",
        "\n",
        "\n",
        "\n",
        "p = init_distribution(len(world))\n",
        "# ADD CODE HERE\n",
        "for i in range(len(measurements)):\n",
        "  p = sense(p, measurements[i])\n",
        "  p = move_prob(p, motions[i])\n",
        "\n",
        "\n",
        "print(p)"
      ],
      "execution_count": 61,
      "outputs": [
        {
          "output_type": "stream",
          "text": [
            "[0.21157895 0.15157895 0.08105263 0.16842105 0.38736842]\n"
          ],
          "name": "stdout"
        }
      ]
    },
    {
      "cell_type": "code",
      "metadata": {
        "id": "kUl7PKg1SBF6",
        "colab_type": "code",
        "colab": {}
      },
      "source": [
        ""
      ],
      "execution_count": 0,
      "outputs": []
    },
    {
      "cell_type": "markdown",
      "metadata": {
        "id": "5jJckQtNVDRV",
        "colab_type": "text"
      },
      "source": [
        "[0.21157894736842106, 0.15157894736842106, 0.08105263157894738, 0.16842105263157894, 0.38736842105263164]"
      ]
    },
    {
      "cell_type": "code",
      "metadata": {
        "id": "Et73M6PeVD0m",
        "colab_type": "code",
        "colab": {}
      },
      "source": [
        ""
      ],
      "execution_count": 0,
      "outputs": []
    }
  ]
}