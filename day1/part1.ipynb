{
  "nbformat": 4,
  "nbformat_minor": 0,
  "metadata": {
    "colab": {
      "name": "Copy of CVIT-Workshop-2020.ipynb",
      "provenance": [],
      "collapsed_sections": []
    },
    "kernelspec": {
      "name": "python3",
      "display_name": "Python 3"
    }
  },
  "cells": [
    {
      "cell_type": "markdown",
      "metadata": {
        "id": "8Dms45Z1uHW9",
        "colab_type": "text"
      },
      "source": [
        "\n",
        "# CVIT Workshop-2020 Day 1 Resources\n",
        "\n",
        "**This notebook will get help you started with the today's session**\n",
        "\n",
        "# Contents \n",
        "\n",
        "0. Github & Google Colab  \n",
        "\n",
        "1. Introduction \n",
        "    - Basics of Juypter Notebook \n",
        "    - Tutorial on Numpy \n",
        "2. Plotting\n",
        "    - Tutorial on matplotlib\n",
        "    - Tutorial on plotly \n",
        "3. Geometry \n",
        "    - Lines \n",
        "    - Functions\n",
        "        - Rect, Sigmoid, Tanh, Gaussian, etc.\n",
        "        - Ellipse, Circle, Rectangle, Square \n",
        "    - Plotting Contours\n",
        "    - Plotting in 3D\n",
        "4. Datasets\n",
        "    - Data and its representations (scalar, vector, matrix, tensor)\n",
        "    - Pandas  \n",
        "        \n",
        "<!-- 5. ML 101 : Tasks and Data Taxonomy\n",
        "    - Unknowns as weights / parameters\n",
        "    - Searching for solutions with a linear model -->\n",
        "\n",
        "\n",
        "## 0. Github & Google Colab \n",
        "Basics of github: https://rogerdudler.github.io/git-guide/\n",
        "\n",
        "How does branching work: http://onlywei.github.io/explain-git-with-d3/#pull\n",
        "\n",
        "### Instructions \n",
        "1. Some of you will already be famaliar with the topics. So these sessions will be as interactive as possible. We will be giving you tasks to perform and the TA's will monitor you. Hence also join the following meeting link: https://meet.google.com/unh-ymai-ddi    \n",
        "\n",
        "2. Everyone has to create a github repository. Share the details of the repository here: https://forms.gle/LqTiao98bWj1Qfjb7  \n",
        "\n",
        "3. For each day create a new folder. For today's tutorial you will be mainly work on google collab. \n",
        "Go to https://colab.research.google.com/ \n",
        "\n",
        "4. Once completed all the tasks are done regarding a particular topic. Download the notebook ( Go to File-> Download .ipynb ) and push it into the repository.  \n",
        "---\n",
        "\n"
      ]
    },
    {
      "cell_type": "code",
      "metadata": {
        "id": "uu4QlE5wnVg9",
        "colab_type": "code",
        "outputId": "5c026ab2-2725-45d3-a877-b4e5e024bddd",
        "colab": {
          "base_uri": "https://localhost:8080/",
          "height": 71
        }
      },
      "source": [
        "X = [2 , 5, 7, 3, 1, 6]\n",
        "\n",
        "# Task 1.1, print a list in reverse order \n",
        "print(X[::-1])\n",
        "# Task 1.2, print only the last 5 elements of a list \n",
        "print(X[-5:])\n",
        "# Task 1.3, remove the 3rd element from the list\n",
        "del X[2]\n",
        "print(X)"
      ],
      "execution_count": 2,
      "outputs": [
        {
          "output_type": "stream",
          "text": [
            "[6, 1, 3, 7, 5, 2]\n",
            "[5, 7, 3, 1, 6]\n",
            "[2, 5, 3, 1, 6]\n"
          ],
          "name": "stdout"
        }
      ]
    },
    {
      "cell_type": "code",
      "metadata": {
        "id": "y3_KZ27QNJHW",
        "colab_type": "code",
        "colab": {}
      },
      "source": [
        ""
      ],
      "execution_count": 0,
      "outputs": []
    },
    {
      "cell_type": "code",
      "metadata": {
        "id": "feEa7-MGM5la",
        "colab_type": "code",
        "colab": {}
      },
      "source": [
        ""
      ],
      "execution_count": 0,
      "outputs": []
    },
    {
      "cell_type": "code",
      "metadata": {
        "id": "T2cMqYIKzNxY",
        "colab_type": "code",
        "outputId": "98da8801-91a1-4f3e-ed76-b71edfc4f841",
        "colab": {
          "base_uri": "https://localhost:8080/",
          "height": 71
        }
      },
      "source": [
        "x = dict([(pow(10,r),r) for r in range(10)])\n",
        "print(x)\n",
        "\n",
        "# Task 2.1: List all the keys inside the dict \n",
        "list(x.keys())\n",
        "\n",
        "# Task 2.2: Remove key 100 from the dict \n",
        "del(x[100])\n",
        "print(x)\n",
        "# Task 2.3: Convert the above dict into a list of key, value tuple. Then sort the list based on mod of the key value with number 101\n",
        "key_vals = [(key,x[key]) for key in x]\n",
        "key_vals.sort(key = lambda y: y[0]%101)\n",
        "print(key_vals)\n"
      ],
      "execution_count": 21,
      "outputs": [
        {
          "output_type": "stream",
          "text": [
            "{1: 0, 10: 1, 100: 2, 1000: 3, 10000: 4, 100000: 5, 1000000: 6, 10000000: 7, 100000000: 8, 1000000000: 9}\n",
            "{1: 0, 10: 1, 1000: 3, 10000: 4, 100000: 5, 1000000: 6, 10000000: 7, 100000000: 8, 1000000000: 9}\n",
            "[(1, 0), (10000, 4), (100000000, 8), (10, 1), (100000, 5), (1000000000, 9), (1000, 3), (10000000, 7), (1000000, 6)]\n"
          ],
          "name": "stdout"
        }
      ]
    },
    {
      "cell_type": "code",
      "metadata": {
        "id": "lIb5nfYwJQvG",
        "colab_type": "code",
        "colab": {
          "base_uri": "https://localhost:8080/",
          "height": 71
        },
        "outputId": "8b6bf3dc-a4e6-44e3-b784-5ca14b3e482c"
      },
      "source": [
        "import numpy as np\n",
        "# Task 3: Calculate the inverse of a sqaure matrix using np.svd\n",
        "# also verify the results \n",
        "\n",
        "M = np.random.rand(3,3)\n",
        "u,s,v = np.linalg.svd(M)\n",
        "inv =  v.transpose() @ np.diag(s**-1) @ u.transpose()\n",
        "print(M @ inv)"
      ],
      "execution_count": 40,
      "outputs": [
        {
          "output_type": "stream",
          "text": [
            "[[ 1.00000000e+00 -1.20341067e-15  3.89464697e-16]\n",
            " [ 1.02800781e-16  1.00000000e+00  1.75516852e-16]\n",
            " [-3.54052077e-16 -7.33321569e-16  1.00000000e+00]]\n"
          ],
          "name": "stdout"
        }
      ]
    },
    {
      "cell_type": "code",
      "metadata": {
        "id": "HHNewfDHnasz",
        "colab_type": "code",
        "colab": {}
      },
      "source": [
        "# Task 4: Create a sin plot which uses both plt.plot and plt.scatter. \n",
        "# Don't forget to add labels"
      ],
      "execution_count": 0,
      "outputs": []
    },
    {
      "cell_type": "code",
      "metadata": {
        "id": "KC7urqgwoA3P",
        "colab_type": "code",
        "colab": {
          "base_uri": "https://localhost:8080/",
          "height": 265
        },
        "outputId": "0d1594ca-6d58-4133-c5d9-12ec648403c4"
      },
      "source": [
        "x = np.linspace(-5, 5, num = 10000)\n",
        "y = np.sin(x)\n",
        "\n",
        "import matplotlib.pyplot as plt\n",
        "plt.plot(x, y, label = 'sin plot')\n",
        "plt.scatter(x,y, label = 'sin scatter', c='orange')\n",
        "plt.legend()\n",
        "plt.show()"
      ],
      "execution_count": 46,
      "outputs": [
        {
          "output_type": "display_data",
          "data": {
            "image/png": "[encoded data removed]",
            "text/plain": [
              "<Figure size 432x288 with 1 Axes>"
            ]
          },
          "metadata": {
            "tags": [],
            "needs_background": "light"
          }
        }
      ]
    }
  ]
}